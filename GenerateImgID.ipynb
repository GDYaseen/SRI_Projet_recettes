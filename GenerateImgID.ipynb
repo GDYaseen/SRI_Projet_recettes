{
 "cells": [
  {
   "cell_type": "code",
   "execution_count": 1,
   "id": "22b24607",
   "metadata": {},
   "outputs": [],
   "source": [
    "import os\n",
    "from PIL import Image\n",
    "from PIL.PngImagePlugin import PngInfo"
   ]
  },
  {
   "cell_type": "code",
   "execution_count": 2,
   "id": "35e6e19a",
   "metadata": {},
   "outputs": [],
   "source": [
    "path = \"./data/img\""
   ]
  },
  {
   "cell_type": "code",
   "execution_count": 5,
   "id": "ac808494",
   "metadata": {},
   "outputs": [
    {
     "data": {
      "text/plain": [
       "['./data/img\\\\Boeuf Bourguignon.jpg',\n",
       " './data/img\\\\Bouillabaisse.jpg',\n",
       " './data/img\\\\Cassoulet.jpg',\n",
       " './data/img\\\\Clafoutis aux Cerises.jpg',\n",
       " './data/img\\\\Coq au Vin.jpg',\n",
       " './data/img\\\\Croque.jpg',\n",
       " './data/img\\\\Crêpes Suzette.jpg',\n",
       " './data/img\\\\Galette des Rois.jpg',\n",
       " './data/img\\\\Gratin Dauphinois.jpg',\n",
       " './data/img\\\\Mousse au Chocolat.jpg',\n",
       " './data/img\\\\Poulet Basquaise.jpg',\n",
       " './data/img\\\\Quenelles de Lyon.jpg',\n",
       " './data/img\\\\Quiche Lorraine.jpg',\n",
       " './data/img\\\\Ratatouille.jpg',\n",
       " './data/img\\\\Salade Niçoise.jpg',\n",
       " './data/img\\\\Soupe à oignon.jpg',\n",
       " './data/img\\\\Tarte Tatin.jpg']"
      ]
     },
     "execution_count": 5,
     "metadata": {},
     "output_type": "execute_result"
    }
   ],
   "source": [
    "path_filenames_list = []\n",
    "for dirname,subfolder,filename in os.walk(path) :\n",
    "    for file in filename :\n",
    "        path_file = os.path.join(dirname,file)\n",
    "        path_filenames_list.append(path_file)\n",
    "\n",
    "path_filenames_list"
   ]
  },
  {
   "cell_type": "code",
   "execution_count": 10,
   "id": "fcfe45fb",
   "metadata": {},
   "outputs": [
    {
     "name": "stdout",
     "output_type": "stream",
     "text": [
      "{'img_id': '0'}\n",
      "{'img_id': '1'}\n",
      "{'img_id': '2'}\n",
      "{'img_id': '3'}\n",
      "{'img_id': '4'}\n",
      "{'img_id': '5'}\n",
      "{'img_id': '6'}\n",
      "{'img_id': '7'}\n",
      "{'img_id': '8'}\n",
      "{'img_id': '9'}\n",
      "{'img_id': '10'}\n",
      "{'img_id': '11'}\n",
      "{'img_id': '12'}\n",
      "{'img_id': '13'}\n",
      "{'img_id': '14'}\n",
      "{'img_id': '15'}\n",
      "{'img_id': '16'}\n"
     ]
    }
   ],
   "source": [
    "# Ajout de la métadonnée img_id\n",
    "i = 0\n",
    "for file_path in path_filenames_list:\n",
    "    # Ouvrir l'image\n",
    "    with Image.open(file_path) as img:\n",
    "        \n",
    "        # Créer ou modifier les métadonnées (utilisation de PngInfo pour les formats compatibles)\n",
    "        metadata = PngInfo()\n",
    "        metadata.add_text(\"img_id\", str(i))\n",
    "        \n",
    "        # Sauvegarder l'image avec les nouvelles métadonnées\n",
    "        output_path = file_path  # Écraser le fichier existant\n",
    "        img.save(output_path, \"png\", pnginfo=metadata)\n",
    "        \n",
    "        # Afficher les métadonnées modifiées\n",
    "        print(f\"{img.info}\")\n",
    "    \n",
    "    i += 1"
   ]
  }
 ],
 "metadata": {
  "kernelspec": {
   "display_name": "Python 3",
   "language": "python",
   "name": "python3"
  },
  "language_info": {
   "codemirror_mode": {
    "name": "ipython",
    "version": 3
   },
   "file_extension": ".py",
   "mimetype": "text/x-python",
   "name": "python",
   "nbconvert_exporter": "python",
   "pygments_lexer": "ipython3",
   "version": "3.8.10"
  }
 },
 "nbformat": 4,
 "nbformat_minor": 5
}
